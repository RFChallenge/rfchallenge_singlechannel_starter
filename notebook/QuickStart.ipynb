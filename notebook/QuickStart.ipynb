{
 "cells": [
  {
   "cell_type": "code",
   "execution_count": 1,
   "metadata": {},
   "outputs": [],
   "source": [
    "%load_ext autoreload\n",
    "%autoreload 2\n",
    "\n",
    "import os\n",
    "os.chdir(globals()['_dh'][0])\n",
    "os.chdir('..')\n",
    "# print(os.path.abspath(os.curdir))\n",
    "\n",
    "import pickle\n",
    "import numpy as np\n",
    "import matplotlib.pyplot as plt\n",
    "\n",
    "import rfcutils # this corresponds to utility functions provided for the challenge\n",
    "get_sinr = lambda s, i: 10*np.log10(np.mean(np.abs(s)**2)/np.mean(np.abs(i)**2))"
   ]
  },
  {
   "cell_type": "markdown",
   "metadata": {},
   "source": [
    "---"
   ]
  },
  {
   "cell_type": "markdown",
   "metadata": {},
   "source": [
    "### 1. Loading all the training set frames from the dataset"
   ]
  },
  {
   "cell_type": "code",
   "execution_count": 2,
   "metadata": {},
   "outputs": [],
   "source": [
    "sig_type = \"EMISignal1\"\n",
    "# sig_type = \"CommSignal2\"\n",
    "# sig_type = \"CommSignal3\"\n",
    "\n",
    "num_train_frame = {\"EMISignal1\": 530, \"CommSignal2\": 100, \"CommSignal3\": 139}\n",
    "# num_all_frame = {\"EMISignal1\": 580, \"CommSignal2\": 150, \"CommSignal3\": 189}\n",
    "sig_dataset = []\n",
    "for ii in range(num_train_frame[sig_type]):\n",
    "    data,meta = rfcutils.load_dataset_sample(ii, \"train_frame\", sig_type)\n",
    "    sig_dataset.append(data)\n",
    "sig_dataset = np.array(sig_dataset)"
   ]
  },
  {
   "cell_type": "code",
   "execution_count": 3,
   "metadata": {},
   "outputs": [
    {
     "name": "stdout",
     "output_type": "stream",
     "text": [
      "(530, 230000)\n"
     ]
    }
   ],
   "source": [
    "print(sig_dataset.shape)"
   ]
  },
  {
   "cell_type": "markdown",
   "metadata": {},
   "source": [
    " "
   ]
  },
  {
   "cell_type": "markdown",
   "metadata": {},
   "source": [
    "### 2. Creating more mixture examples"
   ]
  },
  {
   "cell_type": "code",
   "execution_count": 4,
   "metadata": {},
   "outputs": [
    {
     "name": "stdout",
     "output_type": "stream",
     "text": [
      "-5.000000596046448\n"
     ]
    }
   ],
   "source": [
    "sig_mixture, sig1, sig2 = rfcutils.create_sep_mixture(\"EMISignal1\", target_sinr_db=-5, dataset_type=\"train\")\n",
    "assert np.allclose(sig_mixture, sig1 + sig2)\n",
    "print(get_sinr(sig1, sig2))"
   ]
  },
  {
   "cell_type": "code",
   "execution_count": 5,
   "metadata": {},
   "outputs": [
    {
     "name": "stdout",
     "output_type": "stream",
     "text": [
      "-5.0\n"
     ]
    }
   ],
   "source": [
    "sig_mixture, sig1, sig2, msg_bits = rfcutils.create_demod_mixture(\"CommSignal2\", target_sinr_db=-5, dataset_type=\"train\")\n",
    "assert np.allclose(sig_mixture, sig1 + sig2)\n",
    "assert np.allclose(rfcutils.matched_filter_demod(sig1), msg_bits)\n",
    "print(get_sinr(sig1, sig2))"
   ]
  },
  {
   "cell_type": "markdown",
   "metadata": {},
   "source": [
    " "
   ]
  },
  {
   "cell_type": "markdown",
   "metadata": {},
   "source": [
    "### 3. Loading an example of a mixture"
   ]
  },
  {
   "cell_type": "code",
   "execution_count": 6,
   "metadata": {},
   "outputs": [
    {
     "name": "stdout",
     "output_type": "stream",
     "text": [
      "-3.0000001192092896\n"
     ]
    }
   ],
   "source": [
    "dataset_type = \"sep_val\"\n",
    "interference_sig_type = \"EMISignal1\"\n",
    "idx = 401\n",
    "\n",
    "sig_mixture,meta = rfcutils.load_dataset_sample(idx, dataset_type, interference_sig_type)\n",
    "sig1,meta1,sig2,meta2 = rfcutils.load_dataset_sample_components(idx, dataset_type, interference_sig_type)\n",
    "\n",
    "assert np.allclose(sig_mixture, sig1 + sig2)\n",
    "print(get_sinr(sig1, sig2))"
   ]
  },
  {
   "cell_type": "code",
   "execution_count": 7,
   "metadata": {},
   "outputs": [
    {
     "name": "stdout",
     "output_type": "stream",
     "text": [
      "-2.9999998211860657\n"
     ]
    }
   ],
   "source": [
    "dataset_type = \"demod_val\"\n",
    "interference_sig_type = \"CommSignal2\"\n",
    "idx = 401\n",
    "\n",
    "sig_mixture,meta = rfcutils.load_dataset_sample(idx, dataset_type, interference_sig_type)\n",
    "sig1,meta1,sig2,meta2 = rfcutils.load_dataset_sample_components(idx, dataset_type, interference_sig_type)\n",
    "sig1_copy,meta1_copy,msg_bits,ground_truth_info = rfcutils.load_dataset_sample_demod_groundtruth(idx, dataset_type, interference_sig_type)\n",
    "\n",
    "assert np.allclose(sig_mixture, sig1 + sig2)\n",
    "assert np.allclose(sig1_copy, sig1)\n",
    "assert np.allclose(rfcutils.matched_filter_demod(sig1), msg_bits)\n",
    "print(get_sinr(sig1, sig2))"
   ]
  },
  {
   "cell_type": "markdown",
   "metadata": {},
   "source": [
    " "
   ]
  },
  {
   "cell_type": "markdown",
   "metadata": {},
   "source": [
    "### 4. Suggested Routine for Evaluation"
   ]
  },
  {
   "cell_type": "code",
   "execution_count": 8,
   "metadata": {},
   "outputs": [],
   "source": [
    "def user_def_sep_fn(sig_mixture):\n",
    "    # perform separation here\n",
    "    coeff = np.sqrt(1/(np.mean(np.abs(sig_mixture)**2)))\n",
    "    sig1_est = coeff*sig_mixture\n",
    "    sig2_est = sig_mixture - sig1_est\n",
    "    \n",
    "    return sig1_est, sig2_est"
   ]
  },
  {
   "cell_type": "code",
   "execution_count": 9,
   "metadata": {},
   "outputs": [],
   "source": [
    "interference_sig_type = \"EMISignal1\"\n",
    "# interference_sig_type = \"CommSignal3\"\n",
    "\n",
    "dataset_type = \"sep_val\"\n",
    "all_mse, all_default_mse, all_sinr = [], [], []\n",
    "\n",
    "all_test_idx = np.arange(1100)\n",
    "for idx in all_test_idx:\n",
    "    sig_mixture,meta = rfcutils.load_dataset_sample(idx, dataset_type, interference_sig_type)\n",
    "    \n",
    "    # Separation\n",
    "    sig1_est, sig2_est = user_def_sep_fn(sig_mixture)\n",
    "    \n",
    "    # Evaluation\n",
    "    sig1,meta1,sig2,meta2 = rfcutils.load_dataset_sample_components(idx, dataset_type, interference_sig_type)\n",
    "    sinr = get_sinr(sig1, sig2)\n",
    "    all_sinr.append(sinr)\n",
    "    mse_ref = np.mean(np.abs(sig_mixture-sig1)**2)\n",
    "    all_default_mse.append(mse_ref)\n",
    "        \n",
    "    mse = mse_ref = np.mean(np.abs(sig1_est-sig1)**2)\n",
    "    all_mse.append(mse)\n",
    "\n",
    "#     print(f\"#{idx} -- SINR {sinr:.3f}dB: MSE:{mse}\")"
   ]
  },
  {
   "cell_type": "code",
   "execution_count": 10,
   "metadata": {},
   "outputs": [
    {
     "data": {
      "text/plain": [
       "dict_keys(['LMMSE', 'No Separation'])"
      ]
     },
     "execution_count": 10,
     "metadata": {},
     "output_type": "execute_result"
    }
   ],
   "source": [
    "baseline_mse = pickle.load(open(os.path.join('example','baseline',f'{dataset_type}_mse.pickle'), 'rb'))\n",
    "baseline_mse[interference_sig_type].keys()"
   ]
  },
  {
   "cell_type": "code",
   "execution_count": 11,
   "metadata": {},
   "outputs": [
    {
     "data": {
      "text/plain": [
       "<matplotlib.legend.Legend at 0x7f0e36902390>"
      ]
     },
     "execution_count": 11,
     "metadata": {},
     "output_type": "execute_result"
    },
    {
     "data": {
      "image/png": "[encoded data removed]",
      "text/plain": [
       "<Figure size 432x288 with 1 Axes>"
      ]
     },
     "metadata": {
      "needs_background": "light"
     },
     "output_type": "display_data"
    }
   ],
   "source": [
    "sinr_axis = np.array(all_sinr).reshape(-1,100).mean(axis=1)\n",
    "mean_mse = np.array(all_mse).reshape(-1,100).mean(axis=1)\n",
    "\n",
    "plt.plot(sinr_axis, mean_mse, 'o-')\n",
    "plt.plot(sinr_axis, baseline_mse[interference_sig_type][\"LMMSE\"][\"mean\"], 'x-')\n",
    "plt.xlabel('SINR (dB)')\n",
    "plt.ylabel('MSE')\n",
    "plt.legend(['User Defined Method','LMMSE Estimator'], loc=\"upper right\")"
   ]
  },
  {
   "cell_type": "code",
   "execution_count": null,
   "metadata": {},
   "outputs": [],
   "source": []
  },
  {
   "cell_type": "code",
   "execution_count": 12,
   "metadata": {},
   "outputs": [],
   "source": [
    "def user_def_demod_fn(sig_mixture):\n",
    "    # perform demodulation with interference mitigation here\n",
    "    bit_est = rfcutils.matched_filter_demod(sig_mixture)\n",
    "    \n",
    "    return bit_est"
   ]
  },
  {
   "cell_type": "code",
   "execution_count": 13,
   "metadata": {},
   "outputs": [],
   "source": [
    "# interference_sig_type = \"EMISignal1\"\n",
    "interference_sig_type = \"CommSignal2\"\n",
    "# interference_sig_type = \"CommSignal3\"\n",
    "\n",
    "dataset_type = \"demod_val\"\n",
    "all_ber, all_default_ber, all_sinr = [], [], []\n",
    "\n",
    "all_test_idx = np.arange(1100)\n",
    "for idx in all_test_idx:\n",
    "    sig_mixture,meta = rfcutils.load_dataset_sample(idx, dataset_type, interference_sig_type)\n",
    "    \n",
    "    # Demodulation\n",
    "    bit_est = user_def_demod_fn(sig_mixture)\n",
    "    \n",
    "    # Evaluation\n",
    "    sig1,meta1,sig2,meta2 = rfcutils.load_dataset_sample_components(idx, dataset_type, interference_sig_type)\n",
    "    sinr = get_sinr(sig1, sig2)\n",
    "    all_sinr.append(sinr)\n",
    "    ber_ref = rfcutils.demod_check_ber(rfcutils.matched_filter_demod(sig_mixture), idx, dataset_type, interference_sig_type)\n",
    "    all_default_ber.append(ber_ref)\n",
    "    \n",
    "    ber = rfcutils.demod_check_ber(bit_est, idx, dataset_type, interference_sig_type)\n",
    "    all_ber.append(ber)\n",
    "    \n",
    "#     print(f\"#{idx} -- SINR {sinr:.3f}dB: BER:{ber}\")"
   ]
  },
  {
   "cell_type": "code",
   "execution_count": 14,
   "metadata": {},
   "outputs": [
    {
     "data": {
      "text/plain": [
       "dict_keys(['Matched Filtering', 'LMMSE+Matched Filtering', 'Bit Regression', 'Align+LMMSE+Matched Filtering', 'RNN+Matched Filtering'])"
      ]
     },
     "execution_count": 14,
     "metadata": {},
     "output_type": "execute_result"
    }
   ],
   "source": [
    "baseline_ber = pickle.load(open(os.path.join('example','baseline',f'{dataset_type}_ber.pickle'), 'rb'))\n",
    "\n",
    "# BER for RNN+Matched Filtering results are saved separately; include this if you want to compare against the RNN+Matched Filtering reference method\n",
    "rnn_ber = pickle.load(open(os.path.join('example','baseline',f'rnn_{dataset_type}_ber.pickle'), 'rb'))\n",
    "for sig_type in rnn_ber:\n",
    "    baseline_ber[sig_type]['RNN+Matched Filtering'] = {\"mean\": rnn_ber[sig_type]} \n",
    "\n",
    "    \n",
    "baseline_ber[interference_sig_type].keys()"
   ]
  },
  {
   "cell_type": "code",
   "execution_count": 15,
   "metadata": {},
   "outputs": [
    {
     "data": {
      "text/plain": [
       "<matplotlib.legend.Legend at 0x7f0e2e79a650>"
      ]
     },
     "execution_count": 15,
     "metadata": {},
     "output_type": "execute_result"
    },
    {
     "data": {
      "image/png": "[encoded data removed]",
      "text/plain": [
       "<Figure size 432x288 with 1 Axes>"
      ]
     },
     "metadata": {
      "needs_background": "light"
     },
     "output_type": "display_data"
    }
   ],
   "source": [
    "sinr_axis = np.array(all_sinr).reshape(-1,100).mean(axis=1)\n",
    "mean_ber = np.array(all_ber).reshape(-1,100).mean(axis=1)\n",
    "\n",
    "plt.plot(sinr_axis, mean_ber, 'o-')\n",
    "for method_str in baseline_ber[interference_sig_type].keys():\n",
    "    plt.semilogy(sinr_axis, baseline_ber[interference_sig_type][method_str][\"mean\"], 'x-')\n",
    "plt.xlabel('SINR (dB)')\n",
    "plt.ylabel('BER')\n",
    "plt.legend(['User Defined Method']+list(baseline_ber[interference_sig_type].keys()), loc=\"upper right\")"
   ]
  },
  {
   "cell_type": "code",
   "execution_count": null,
   "metadata": {},
   "outputs": [],
   "source": []
  }
 ],
 "metadata": {
  "kernelspec": {
   "display_name": "Python [conda env:.conda-rfsep]",
   "language": "python",
   "name": "conda-env-.conda-rfsep-py"
  },
  "language_info": {
   "codemirror_mode": {
    "name": "ipython",
    "version": 3
   },
   "file_extension": ".py",
   "mimetype": "text/x-python",
   "name": "python",
   "nbconvert_exporter": "python",
   "pygments_lexer": "ipython3",
   "version": "3.7.6"
  }
 },
 "nbformat": 4,
 "nbformat_minor": 4
}
